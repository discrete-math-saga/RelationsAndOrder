{
 "cells": [
  {
   "cell_type": "code",
   "execution_count": null,
   "metadata": {},
   "outputs": [],
   "source": [
    "def multiply(A:set[tuple],R:set[tuple]) -> set[tuple]:\n",
    "    \"\"\"\n",
    "    関係AとRに対して 新しい関係(RA) を求める\n",
    "    \"\"\"\n",
    "    result = set()\n",
    "    for a in A:\n",
    "        (x,z) = a\n",
    "        for r in R:\n",
    "            (zz,y) = r\n",
    "            if z == zz:\n",
    "                result.add((x,y))\n",
    "    return result"
   ]
  },
  {
   "cell_type": "code",
   "execution_count": null,
   "metadata": {},
   "outputs": [],
   "source": [
    "def setEqual(A:set,B:set) -> bool:\n",
    "    \"\"\"\n",
    "    二つの集合が等しいとき、Trueを返す\n",
    "    \"\"\"\n",
    "    n = len(A)\n",
    "    if len(B) != n:\n",
    "        return False\n",
    "    C = A & B\n",
    "    if len(C) != n:\n",
    "        return False\n",
    "    return True"
   ]
  },
  {
   "cell_type": "code",
   "execution_count": null,
   "metadata": {},
   "outputs": [],
   "source": [
    "def create(R:set[tuple]) -> list[set[tuple]]:\n",
    "    \"\"\"\n",
    "    R^0からR^5までを生成し、それぞれをリストの要素として返す\n",
    "    \"\"\"\n",
    "    #アルファベットの抽出\n",
    "    A = set()\n",
    "    for (a,b) in R:\n",
    "        A.add((a,a))\n",
    "        A.add((b,b))\n",
    "    print(f'0:{A}')\n",
    "    L = list()\n",
    "    #R^0\n",
    "    L.append(A)\n",
    "    #R^1\n",
    "    print(f'1:{R}')\n",
    "    L.append(R)\n",
    "\n",
    "    A = R.copy()\n",
    "    for i in range(2,5):\n",
    "        C = multiply(A,R)\n",
    "        print(f'{i}:{C}')\n",
    "        L.append(C)\n",
    "        A = C\n",
    "    return L"
   ]
  },
  {
   "cell_type": "code",
   "execution_count": null,
   "metadata": {},
   "outputs": [],
   "source": [
    "def check(L:list[set[tuple]],n:int):\n",
    "    \"\"\"\n",
    "    R^nまでで、全ての場合を尽くすことを確かめる\n",
    "    \"\"\"\n",
    "    Closure = set()\n",
    "    for i in range(n+1):\n",
    "        Closure = Closure | L[i]\n",
    "    print(Closure)"
   ]
  },
  {
   "cell_type": "code",
   "execution_count": null,
   "metadata": {},
   "outputs": [],
   "source": [
    "def check2(L:list[set[tuple]]):\n",
    "    \"\"\"\n",
    "    R^nまでで、全ての場合を尽くすことを確かめる\n",
    "    \"\"\"\n",
    "    Closure = set()\n",
    "    k = -1\n",
    "    for s in L:\n",
    "        Temp = Closure | s\n",
    "        if setEqual(Temp,Closure):\n",
    "            break\n",
    "        Closure = Temp\n",
    "        k += 1\n",
    "        print(f'{k}:{Closure}')"
   ]
  },
  {
   "cell_type": "code",
   "execution_count": null,
   "metadata": {
    "tags": []
   },
   "outputs": [],
   "source": [
    "R = {('a','a'),('a','b'),('b','d'),('c','d'),('d','b')}\n",
    "L=create(R)\n",
    "print('----------------')\n",
    "check(L,3)\n",
    "print('----------------')\n",
    "check2(L)\n"
   ]
  },
  {
   "cell_type": "code",
   "execution_count": null,
   "metadata": {},
   "outputs": [],
   "source": []
  }
 ],
 "metadata": {
  "interpreter": {
   "hash": "7d330ac3c0b25dc381f64ca0c188e362671856c25b4e80802dae9163abcbe1bb"
  },
  "kernelspec": {
   "display_name": "Python 3.9.4 64-bit",
   "name": "python3"
  },
  "language_info": {
   "codemirror_mode": {
    "name": "ipython",
    "version": 3
   },
   "file_extension": ".py",
   "mimetype": "text/x-python",
   "name": "python",
   "nbconvert_exporter": "python",
   "pygments_lexer": "ipython3",
   "version": "3.9.4"
  },
  "orig_nbformat": 2
 },
 "nbformat": 4,
 "nbformat_minor": 2
}
