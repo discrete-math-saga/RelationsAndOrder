{
 "metadata": {
  "language_info": {
   "codemirror_mode": {
    "name": "ipython",
    "version": 3
   },
   "file_extension": ".py",
   "mimetype": "text/x-python",
   "name": "python",
   "nbconvert_exporter": "python",
   "pygments_lexer": "ipython3",
   "version": "3.7.8-final"
  },
  "orig_nbformat": 2,
  "kernelspec": {
   "name": "python_defaultSpec_1597797159050",
   "display_name": "Python 3.7.8 64-bit"
  }
 },
 "nbformat": 4,
 "nbformat_minor": 2,
 "cells": [
  {
   "cell_type": "code",
   "execution_count": null,
   "metadata": {},
   "outputs": [],
   "source": [
    "# 関係AとRに対して (RA) を求める\n",
    "def multiply(A,R):\n",
    "    out = set()\n",
    "    for a in A:\n",
    "        (x,z) = a\n",
    "        for r in R:\n",
    "            (zz,y) = r\n",
    "            if z == zz:\n",
    "                out.add((x,y))\n",
    "    return out"
   ]
  },
  {
   "cell_type": "code",
   "execution_count": null,
   "metadata": {},
   "outputs": [],
   "source": [
    "#二つの集合が等しいとき、Trueを返す\n",
    "def setEqual(A,B):\n",
    "    n = len(A)\n",
    "    if len(B) != n:\n",
    "        return False\n",
    "    C = A & B\n",
    "    if len(C) != n:\n",
    "        return False\n",
    "    return True"
   ]
  },
  {
   "cell_type": "code",
   "execution_count": null,
   "metadata": {},
   "outputs": [],
   "source": [
    "#R^0からR^5までを生成\n",
    "def create(Z,R):\n",
    "    L = list()\n",
    "    L.append(Z)\n",
    "    L.append(R)\n",
    "    A = R.copy()\n",
    "    for i in range(5):\n",
    "        B = A.copy()\n",
    "        C = multiply(A,R)\n",
    "        print(f'{i}:{C}')\n",
    "        L.append(C)\n",
    "        A = C\n",
    "    return L"
   ]
  },
  {
   "cell_type": "code",
   "execution_count": null,
   "metadata": {},
   "outputs": [],
   "source": [
    "#R^nまでで、全ての場合を尽くすこと\n",
    "def check(L,n):\n",
    "    Closure = set()\n",
    "    for i in range(n+1):\n",
    "        Closure = Closure | L[i]\n",
    "    print(Closure)"
   ]
  },
  {
   "cell_type": "code",
   "execution_count": null,
   "metadata": {},
   "outputs": [],
   "source": [
    "#R^nまでで、全ての場合を尽くすこと\n",
    "def check2(L):\n",
    "    Closure = set()\n",
    "    k = -1\n",
    "    for s in L:\n",
    "        Temp = Closure | s\n",
    "        if setEqual(Temp,Closure):\n",
    "            break\n",
    "        Closure = Temp\n",
    "        k += 1\n",
    "        print(f'{k}:{Closure}')"
   ]
  },
  {
   "cell_type": "code",
   "execution_count": null,
   "metadata": {
    "tags": []
   },
   "outputs": [],
   "source": [
    "R = {('a','a'),('a','b'),('b','d'),('c','d'),('d','b')}\n",
    "Z = {('a','a'),('b','b'),('c','c'),('d','d')}\n",
    "L=create(Z,R)\n",
    "print('----------------')\n",
    "check(L,3)\n",
    "print('----------------')\n",
    "check2(L)\n"
   ]
  },
  {
   "cell_type": "code",
   "execution_count": null,
   "metadata": {},
   "outputs": [],
   "source": []
  }
 ]
}