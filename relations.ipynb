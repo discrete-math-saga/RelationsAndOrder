{
 "cells": [
  {
   "cell_type": "markdown",
   "metadata": {},
   "source": [
    "# 関係とその連結"
   ]
  },
  {
   "cell_type": "markdown",
   "metadata": {},
   "source": [
    "## 関係の連結\n",
    "$$RA$$"
   ]
  },
  {
   "cell_type": "code",
   "execution_count": 1,
   "metadata": {},
   "outputs": [],
   "source": [
    "def multiply(A:set[tuple], R:set[tuple]) -> set[tuple]:\n",
    "    \"\"\"\n",
    "    関係AとRに対して 新しい関係(RA) を求める\n",
    "    \"\"\"\n",
    "    result = set()\n",
    "    for a in A:\n",
    "        (x,z) = a\n",
    "        for r in R:\n",
    "            (zz,y) = r\n",
    "            if z == zz:\n",
    "                result.add((x,y))\n",
    "    return result"
   ]
  },
  {
   "cell_type": "markdown",
   "metadata": {},
   "source": [
    "$$\n",
    "\\bigcup_{k=0}^n R^k"
   ]
  },
  {
   "cell_type": "code",
   "execution_count": 2,
   "metadata": {},
   "outputs": [],
   "source": [
    "def createNOrder(R:set[tuple], n = 5) -> list[set[tuple]]:\n",
    "    \"\"\"\n",
    "    R^0からR^nまでを生成し、それぞれをリストの要素として返す\n",
    "    \"\"\"\n",
    "    #アルファベットの抽出\n",
    "    A = set()\n",
    "    for (a,b) in R:\n",
    "        A.add((a,a))\n",
    "        A.add((b,b))\n",
    "    print(f'0:{A}')\n",
    "    L = list()\n",
    "    #R^0\n",
    "    L.append(A)\n",
    "    #R^1\n",
    "    print(f'1:{R}')\n",
    "    L.append(R)\n",
    "\n",
    "    A = R.copy()\n",
    "    for i in range(2, n + 1):\n",
    "        C = multiply(A, R)\n",
    "        print(f'{i}:{C}')\n",
    "        L.append(C)\n",
    "        A = C\n",
    "    return L"
   ]
  },
  {
   "cell_type": "code",
   "execution_count": 3,
   "metadata": {},
   "outputs": [],
   "source": [
    "def check(L:list[set[tuple]], n:int) -> None:\n",
    "    \"\"\"\n",
    "    R^nまでで、全ての場合を尽くすことを確かめる\n",
    "    \"\"\"\n",
    "    Closure = set()\n",
    "    for i in range(n+1):\n",
    "        Closure = Closure | L[i]\n",
    "    print(Closure)"
   ]
  },
  {
   "cell_type": "code",
   "execution_count": 4,
   "metadata": {},
   "outputs": [],
   "source": [
    "def check2(L:list[set[tuple]]) -> None:\n",
    "    \"\"\"\n",
    "    R^nまでで、全ての場合を尽くすことを確かめる\n",
    "    \"\"\"\n",
    "    Closure = set()\n",
    "    k = -1\n",
    "    for s in L:\n",
    "        Temp = Closure | s\n",
    "        if Temp == Closure:\n",
    "            break\n",
    "        Closure = Temp\n",
    "        k += 1\n",
    "        print(f'{k}:{Closure}')"
   ]
  },
  {
   "cell_type": "code",
   "execution_count": 5,
   "metadata": {
    "tags": []
   },
   "outputs": [],
   "source": [
    "def sample1():\n",
    "    R = {('a','a'),('a','b'),('b','d'),('c','d'),('d','b')}\n",
    "    #R = {('a','b'),('b','c'),('c','b')}\n",
    "    #R^0からR^4までを作成\n",
    "    L = createNOrder(R, 4)\n",
    "    print('----------------')\n",
    "    #R^3までで全ての場合を尽くすかを確認\n",
    "    check(L, 3)\n",
    "    print('----------------')\n",
    "    #全ての場合を尽くす最小の次数を求める\n",
    "    check2(L)\n"
   ]
  },
  {
   "cell_type": "code",
   "execution_count": 14,
   "metadata": {},
   "outputs": [],
   "source": [
    "def sample2():\n",
    "    R = {('a','a'),('a','b'),('b','d'),('c','a')}\n",
    "    S = {('a','c'),('a','d'),('b','c')}\n",
    "    print(multiply(S,R))\n",
    "    print(multiply(R,R))\n",
    "    print(multiply(S,S))"
   ]
  },
  {
   "cell_type": "code",
   "execution_count": 15,
   "metadata": {},
   "outputs": [
    {
     "name": "stdout",
     "output_type": "stream",
     "text": [
      "{('a', 'a'), ('b', 'a')}\n",
      "{('a', 'd'), ('a', 'a'), ('c', 'b'), ('c', 'a'), ('a', 'b')}\n",
      "set()\n"
     ]
    }
   ],
   "source": [
    "sample2()"
   ]
  }
 ],
 "metadata": {
  "kernelspec": {
   "display_name": "Python 3.9.7 ('myenv')",
   "language": "python",
   "name": "python3"
  },
  "language_info": {
   "codemirror_mode": {
    "name": "ipython",
    "version": 3
   },
   "file_extension": ".py",
   "mimetype": "text/x-python",
   "name": "python",
   "nbconvert_exporter": "python",
   "pygments_lexer": "ipython3",
   "version": "3.10.8"
  },
  "orig_nbformat": 2,
  "vscode": {
   "interpreter": {
    "hash": "5b50574aca822a4663eeb358827631e5cbe081f130521b0066dec6b864ef6f2f"
   }
  }
 },
 "nbformat": 4,
 "nbformat_minor": 2
}
